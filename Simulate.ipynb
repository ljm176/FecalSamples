{
 "cells": [
  {
   "cell_type": "code",
   "execution_count": 5,
   "metadata": {},
   "outputs": [],
   "source": [
    "import opentrons"
   ]
  },
  {
   "cell_type": "code",
   "execution_count": 22,
   "metadata": {},
   "outputs": [
    {
     "name": "stdout",
     "output_type": "stream",
     "text": [
      "Picking up tip from A1 of Opentrons 96 Tip Rack 20 µL on 1\n",
      "Mixing 2 times with a volume of 20.0 ul\n",
      "\tAspirating 20.0 uL from A1 of ECHO 384 Well Plate 65 µL on 2 at 7.6 uL/sec\n",
      "\tDispensing 20.0 uL into A1 of ECHO 384 Well Plate 65 µL on 2 at 7.6 uL/sec\n",
      "\tAspirating 20.0 uL from A1 of ECHO 384 Well Plate 65 µL on 2 at 7.6 uL/sec\n",
      "\tDispensing 20.0 uL into A1 of ECHO 384 Well Plate 65 µL on 2 at 7.6 uL/sec\n",
      "Aspirating 10.0 uL from A1 of ECHO 384 Well Plate 65 µL on 2 at 7.6 uL/sec\n",
      "Dispensing 5.0 uL into A1 of Bio-Rad 96 Well Plate 200 µL PCR on 3 at 1.9 uL/sec\n",
      "Dispensing 5.0 uL into A2 of ECHO 384 Well Plate 65 µL on 2 at 7.6 uL/sec\n",
      "Mixing 2 times with a volume of 20.0 ul\n",
      "\tAspirating 20.0 uL from A2 of ECHO 384 Well Plate 65 µL on 2 at 7.6 uL/sec\n",
      "\tDispensing 20.0 uL into A2 of ECHO 384 Well Plate 65 µL on 2 at 7.6 uL/sec\n",
      "\tAspirating 20.0 uL from A2 of ECHO 384 Well Plate 65 µL on 2 at 7.6 uL/sec\n",
      "\tDispensing 20.0 uL into A2 of ECHO 384 Well Plate 65 µL on 2 at 7.6 uL/sec\n",
      "Aspirating 10.0 uL from A2 of ECHO 384 Well Plate 65 µL on 2 at 7.6 uL/sec\n",
      "Dispensing 5.0 uL into A2 of Bio-Rad 96 Well Plate 200 µL PCR on 3 at 1.9 uL/sec\n",
      "Dispensing 5.0 uL into B2 of ECHO 384 Well Plate 65 µL on 2 at 7.6 uL/sec\n",
      "Mixing 2 times with a volume of 20.0 ul\n",
      "\tAspirating 20.0 uL from B2 of ECHO 384 Well Plate 65 µL on 2 at 7.6 uL/sec\n",
      "\tDispensing 20.0 uL into B2 of ECHO 384 Well Plate 65 µL on 2 at 7.6 uL/sec\n",
      "\tAspirating 20.0 uL from B2 of ECHO 384 Well Plate 65 µL on 2 at 7.6 uL/sec\n",
      "\tDispensing 20.0 uL into B2 of ECHO 384 Well Plate 65 µL on 2 at 7.6 uL/sec\n",
      "Aspirating 10.0 uL from B2 of ECHO 384 Well Plate 65 µL on 2 at 7.6 uL/sec\n",
      "Dispensing 5.0 uL into A3 of Bio-Rad 96 Well Plate 200 µL PCR on 3 at 1.9 uL/sec\n",
      "Dispensing 5.0 uL into B1 of ECHO 384 Well Plate 65 µL on 2 at 7.6 uL/sec\n",
      "Mixing 2 times with a volume of 20.0 ul\n",
      "\tAspirating 20.0 uL from B1 of ECHO 384 Well Plate 65 µL on 2 at 7.6 uL/sec\n",
      "\tDispensing 20.0 uL into B1 of ECHO 384 Well Plate 65 µL on 2 at 7.6 uL/sec\n",
      "\tAspirating 20.0 uL from B1 of ECHO 384 Well Plate 65 µL on 2 at 7.6 uL/sec\n",
      "\tDispensing 20.0 uL into B1 of ECHO 384 Well Plate 65 µL on 2 at 7.6 uL/sec\n",
      "Aspirating 5.0 uL from B1 of ECHO 384 Well Plate 65 µL on 2 at 7.6 uL/sec\n",
      "Dispensing 5.0 uL into A4 of Bio-Rad 96 Well Plate 200 µL PCR on 3 at 1.9 uL/sec\n",
      "Dropping tip into A1 of Opentrons Fixed Trash on 12\n",
      "Picking up tip from A2 of Opentrons 96 Tip Rack 20 µL on 1\n",
      "Mixing 2 times with a volume of 20.0 ul\n",
      "\tAspirating 20.0 uL from A9 of ECHO 384 Well Plate 65 µL on 2 at 7.6 uL/sec\n",
      "\tDispensing 20.0 uL into A9 of ECHO 384 Well Plate 65 µL on 2 at 7.6 uL/sec\n",
      "\tAspirating 20.0 uL from A9 of ECHO 384 Well Plate 65 µL on 2 at 7.6 uL/sec\n",
      "\tDispensing 20.0 uL into A9 of ECHO 384 Well Plate 65 µL on 2 at 7.6 uL/sec\n",
      "Aspirating 10.0 uL from A9 of ECHO 384 Well Plate 65 µL on 2 at 7.6 uL/sec\n",
      "Dispensing 5.0 uL into A5 of Bio-Rad 96 Well Plate 200 µL PCR on 3 at 1.9 uL/sec\n",
      "Dispensing 5.0 uL into A10 of ECHO 384 Well Plate 65 µL on 2 at 7.6 uL/sec\n",
      "Mixing 2 times with a volume of 20.0 ul\n",
      "\tAspirating 20.0 uL from A10 of ECHO 384 Well Plate 65 µL on 2 at 7.6 uL/sec\n",
      "\tDispensing 20.0 uL into A10 of ECHO 384 Well Plate 65 µL on 2 at 7.6 uL/sec\n",
      "\tAspirating 20.0 uL from A10 of ECHO 384 Well Plate 65 µL on 2 at 7.6 uL/sec\n",
      "\tDispensing 20.0 uL into A10 of ECHO 384 Well Plate 65 µL on 2 at 7.6 uL/sec\n",
      "Aspirating 10.0 uL from A10 of ECHO 384 Well Plate 65 µL on 2 at 7.6 uL/sec\n",
      "Dispensing 5.0 uL into A6 of Bio-Rad 96 Well Plate 200 µL PCR on 3 at 1.9 uL/sec\n",
      "Dispensing 5.0 uL into B10 of ECHO 384 Well Plate 65 µL on 2 at 7.6 uL/sec\n",
      "Mixing 2 times with a volume of 20.0 ul\n",
      "\tAspirating 20.0 uL from B10 of ECHO 384 Well Plate 65 µL on 2 at 7.6 uL/sec\n",
      "\tDispensing 20.0 uL into B10 of ECHO 384 Well Plate 65 µL on 2 at 7.6 uL/sec\n",
      "\tAspirating 20.0 uL from B10 of ECHO 384 Well Plate 65 µL on 2 at 7.6 uL/sec\n",
      "\tDispensing 20.0 uL into B10 of ECHO 384 Well Plate 65 µL on 2 at 7.6 uL/sec\n",
      "Aspirating 10.0 uL from B10 of ECHO 384 Well Plate 65 µL on 2 at 7.6 uL/sec\n",
      "Dispensing 5.0 uL into A7 of Bio-Rad 96 Well Plate 200 µL PCR on 3 at 1.9 uL/sec\n",
      "Dispensing 5.0 uL into B9 of ECHO 384 Well Plate 65 µL on 2 at 7.6 uL/sec\n",
      "Mixing 2 times with a volume of 20.0 ul\n",
      "\tAspirating 20.0 uL from B9 of ECHO 384 Well Plate 65 µL on 2 at 7.6 uL/sec\n",
      "\tDispensing 20.0 uL into B9 of ECHO 384 Well Plate 65 µL on 2 at 7.6 uL/sec\n",
      "\tAspirating 20.0 uL from B9 of ECHO 384 Well Plate 65 µL on 2 at 7.6 uL/sec\n",
      "\tDispensing 20.0 uL into B9 of ECHO 384 Well Plate 65 µL on 2 at 7.6 uL/sec\n",
      "Aspirating 5.0 uL from B9 of ECHO 384 Well Plate 65 µL on 2 at 7.6 uL/sec\n",
      "Dispensing 5.0 uL into A4 of Bio-Rad 96 Well Plate 200 µL PCR on 3 at 1.9 uL/sec\n",
      "Dropping tip into A1 of Opentrons Fixed Trash on 12\n",
      "Picking up tip from A3 of Opentrons 96 Tip Rack 20 µL on 1\n",
      "Mixing 2 times with a volume of 20.0 ul\n",
      "\tAspirating 20.0 uL from A17 of ECHO 384 Well Plate 65 µL on 2 at 7.6 uL/sec\n",
      "\tDispensing 20.0 uL into A17 of ECHO 384 Well Plate 65 µL on 2 at 7.6 uL/sec\n",
      "\tAspirating 20.0 uL from A17 of ECHO 384 Well Plate 65 µL on 2 at 7.6 uL/sec\n",
      "\tDispensing 20.0 uL into A17 of ECHO 384 Well Plate 65 µL on 2 at 7.6 uL/sec\n",
      "Aspirating 10.0 uL from A17 of ECHO 384 Well Plate 65 µL on 2 at 7.6 uL/sec\n",
      "Dispensing 5.0 uL into A9 of Bio-Rad 96 Well Plate 200 µL PCR on 3 at 1.9 uL/sec\n",
      "Dispensing 5.0 uL into A18 of ECHO 384 Well Plate 65 µL on 2 at 7.6 uL/sec\n",
      "Mixing 2 times with a volume of 20.0 ul\n",
      "\tAspirating 20.0 uL from A18 of ECHO 384 Well Plate 65 µL on 2 at 7.6 uL/sec\n",
      "\tDispensing 20.0 uL into A18 of ECHO 384 Well Plate 65 µL on 2 at 7.6 uL/sec"
     ]
    },
    {
     "name": "stderr",
     "output_type": "stream",
     "text": [
      "C:\\Users\\lajamu\\.opentrons\\deck_calibration.json not found. Loading defaults\n",
      "C:\\Users\\lajamu\\.opentrons\\robot_settings.json not found. Loading defaults\n"
     ]
    },
    {
     "name": "stdout",
     "output_type": "stream",
     "text": [
      "\n",
      "\tAspirating 20.0 uL from A18 of ECHO 384 Well Plate 65 µL on 2 at 7.6 uL/sec\n",
      "\tDispensing 20.0 uL into A18 of ECHO 384 Well Plate 65 µL on 2 at 7.6 uL/sec\n",
      "Aspirating 10.0 uL from A18 of ECHO 384 Well Plate 65 µL on 2 at 7.6 uL/sec\n",
      "Dispensing 5.0 uL into A10 of Bio-Rad 96 Well Plate 200 µL PCR on 3 at 1.9 uL/sec\n",
      "Dispensing 5.0 uL into B18 of ECHO 384 Well Plate 65 µL on 2 at 7.6 uL/sec\n",
      "Mixing 2 times with a volume of 20.0 ul\n",
      "\tAspirating 20.0 uL from B18 of ECHO 384 Well Plate 65 µL on 2 at 7.6 uL/sec\n",
      "\tDispensing 20.0 uL into B18 of ECHO 384 Well Plate 65 µL on 2 at 7.6 uL/sec\n",
      "\tAspirating 20.0 uL from B18 of ECHO 384 Well Plate 65 µL on 2 at 7.6 uL/sec\n",
      "\tDispensing 20.0 uL into B18 of ECHO 384 Well Plate 65 µL on 2 at 7.6 uL/sec\n",
      "Aspirating 10.0 uL from B18 of ECHO 384 Well Plate 65 µL on 2 at 7.6 uL/sec\n",
      "Dispensing 5.0 uL into A11 of Bio-Rad 96 Well Plate 200 µL PCR on 3 at 1.9 uL/sec\n",
      "Dispensing 5.0 uL into B17 of ECHO 384 Well Plate 65 µL on 2 at 7.6 uL/sec\n",
      "Mixing 2 times with a volume of 20.0 ul\n",
      "\tAspirating 20.0 uL from B17 of ECHO 384 Well Plate 65 µL on 2 at 7.6 uL/sec\n",
      "\tDispensing 20.0 uL into B17 of ECHO 384 Well Plate 65 µL on 2 at 7.6 uL/sec\n",
      "\tAspirating 20.0 uL from B17 of ECHO 384 Well Plate 65 µL on 2 at 7.6 uL/sec\n",
      "\tDispensing 20.0 uL into B17 of ECHO 384 Well Plate 65 µL on 2 at 7.6 uL/sec\n",
      "Aspirating 5.0 uL from B17 of ECHO 384 Well Plate 65 µL on 2 at 7.6 uL/sec\n",
      "Dispensing 5.0 uL into A4 of Bio-Rad 96 Well Plate 200 µL PCR on 3 at 1.9 uL/sec\n",
      "Dropping tip into A1 of Opentrons Fixed Trash on 12\n",
      "Run Complete!\n"
     ]
    }
   ],
   "source": [
    "!opentrons_simulate 384_DilutionandPlaing.py"
   ]
  },
  {
   "cell_type": "code",
   "execution_count": 18,
   "metadata": {},
   "outputs": [
    {
     "data": {
      "text/plain": [
       "[0, 2, 4, 6, 8, 10, 12, 14]"
      ]
     },
     "execution_count": 18,
     "metadata": {},
     "output_type": "execute_result"
    }
   ],
   "source": [
    "def get_wells(c):\n",
    "    wells = [x*2 for x in range(c, c+8)]\n",
    "    return(wells)\n",
    "w = get_wells(0)\n",
    "w"
   ]
  }
 ],
 "metadata": {
  "kernelspec": {
   "display_name": "Python 3",
   "language": "python",
   "name": "python3"
  },
  "language_info": {
   "codemirror_mode": {
    "name": "ipython",
    "version": 3
   },
   "file_extension": ".py",
   "mimetype": "text/x-python",
   "name": "python",
   "nbconvert_exporter": "python",
   "pygments_lexer": "ipython3",
   "version": "3.7.1"
  }
 },
 "nbformat": 4,
 "nbformat_minor": 4
}
